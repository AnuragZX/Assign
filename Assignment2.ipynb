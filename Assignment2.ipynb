{
 "cells": [
  {
   "cell_type": "markdown",
   "id": "48fd5430",
   "metadata": {},
   "source": [
    "**1.What are the two values of the Boolean data type? How do you write them?**\n",
    "\n",
    "**Ans.** Two value of boolean data types are True and False. "
   ]
  },
  {
   "cell_type": "code",
   "execution_count": 7,
   "id": "51ca372f",
   "metadata": {},
   "outputs": [
    {
     "name": "stdout",
     "output_type": "stream",
     "text": [
      "True\n",
      "False\n"
     ]
    }
   ],
   "source": [
    "print(bool(\"Anurag\"))\n",
    "print(bool(\"\"))"
   ]
  },
  {
   "cell_type": "markdown",
   "id": "63359947",
   "metadata": {},
   "source": [
    "**2.What are the three different types of Boolean operators?**\n",
    "\n",
    "**Ans.** Three types of Boolean operators are and, or & not"
   ]
  },
  {
   "cell_type": "markdown",
   "id": "ab5e29e6",
   "metadata": {},
   "source": [
    "**3.Make a list of each Boolean operator's truth tables (i.e. every possible combination of Boolean\n",
    "values for the operator and what it evaluate ).**\n",
    "\n",
    "**Ans.** Truth table for AND operator\n",
    "\n",
    "True and True is True\n",
    "\n",
    "True and False is False\n",
    "\n",
    "False and False is False\n",
    "\n",
    "False and False is False\n",
    "\n",
    "Truth Table for OR operator.\n",
    "\n",
    "True or ture is True.\n",
    "\n",
    "True or false is True.\n",
    "\n",
    "False or true is True.\n",
    "\n",
    "False or False is False\n",
    "\n",
    "Truth table for NOT operator.\n",
    "\n",
    "True NOT True is False.\n",
    "\n",
    "True NOT False is False.\n",
    "\n",
    "False NOT False is True.\n",
    "\n",
    "False NOT True is True."
   ]
  },
  {
   "cell_type": "markdown",
   "id": "f6547804",
   "metadata": {},
   "source": [
    "**4.What are the values of the following expressions?**\n"
   ]
  },
  {
   "cell_type": "code",
   "execution_count": 9,
   "id": "315a799b",
   "metadata": {},
   "outputs": [
    {
     "data": {
      "text/plain": [
       "False"
      ]
     },
     "execution_count": 9,
     "metadata": {},
     "output_type": "execute_result"
    }
   ],
   "source": [
    "(5 > 4) and (3 == 5)"
   ]
  },
  {
   "cell_type": "code",
   "execution_count": 10,
   "id": "5b32bd20",
   "metadata": {},
   "outputs": [
    {
     "data": {
      "text/plain": [
       "False"
      ]
     },
     "execution_count": 10,
     "metadata": {},
     "output_type": "execute_result"
    }
   ],
   "source": [
    "not (5 > 4)"
   ]
  },
  {
   "cell_type": "code",
   "execution_count": 11,
   "id": "4825341f",
   "metadata": {},
   "outputs": [
    {
     "data": {
      "text/plain": [
       "True"
      ]
     },
     "execution_count": 11,
     "metadata": {},
     "output_type": "execute_result"
    }
   ],
   "source": [
    "(5 >4) or (3 == 5)"
   ]
  },
  {
   "cell_type": "code",
   "execution_count": 12,
   "id": "9db9e77f",
   "metadata": {},
   "outputs": [
    {
     "data": {
      "text/plain": [
       "False"
      ]
     },
     "execution_count": 12,
     "metadata": {},
     "output_type": "execute_result"
    }
   ],
   "source": [
    "not ((5 > 4) or (3 == 5))"
   ]
  },
  {
   "cell_type": "code",
   "execution_count": 13,
   "id": "60f59197",
   "metadata": {},
   "outputs": [
    {
     "data": {
      "text/plain": [
       "False"
      ]
     },
     "execution_count": 13,
     "metadata": {},
     "output_type": "execute_result"
    }
   ],
   "source": [
    "(True and True) and (True == False)"
   ]
  },
  {
   "cell_type": "code",
   "execution_count": 14,
   "id": "c5460b39",
   "metadata": {},
   "outputs": [
    {
     "data": {
      "text/plain": [
       "True"
      ]
     },
     "execution_count": 14,
     "metadata": {},
     "output_type": "execute_result"
    }
   ],
   "source": [
    "(not False) or (not True)"
   ]
  },
  {
   "cell_type": "markdown",
   "id": "f28d6665",
   "metadata": {},
   "source": [
    "**5. What are the six comparison operators?**\n",
    "\n",
    "**Ans.** \"==\"  Equals\n",
    "\n",
    "\"<\"  Lesser\n",
    "\n",
    "\">\" Greater\n",
    "\n",
    "\"!=\"  Not Equals\n",
    "\n",
    "\"<=\"  Less than or Equal to\n",
    "\n",
    "\">=\"  Greater than or equals to"
   ]
  },
  {
   "cell_type": "markdown",
   "id": "b3d3175c",
   "metadata": {},
   "source": [
    "**6. How do you tell the difference between the equal to and assignment operators?Describe a\n",
    "condition and when you would use one.**\n",
    "\n",
    "**Ans.** Equal to operator is when we compare and check whether both the variables are equal or not \"==\". \n",
    "\n",
    "And Assignment operator is when we assign a particular value to the variable \"=\" is used."
   ]
  },
  {
   "cell_type": "code",
   "execution_count": 1,
   "id": "605b7cb0",
   "metadata": {},
   "outputs": [
    {
     "name": "stdout",
     "output_type": "stream",
     "text": [
      "No\n"
     ]
    }
   ],
   "source": [
    "a=3\n",
    "b=4\n",
    "if b==a:\n",
    "    print(\"Yes\")\n",
    "else:\n",
    "    print(\"No\")"
   ]
  },
  {
   "cell_type": "markdown",
   "id": "5e06c3ad",
   "metadata": {},
   "source": [
    "Hence in the above code we can see that 3 and 4 are the values which were assigned to the variables a,b.\n",
    "\n",
    "but whereas in the third line \"==\" was used to compare both the values."
   ]
  },
  {
   "cell_type": "markdown",
   "id": "d564eeff",
   "metadata": {},
   "source": [
    "**7. Identify the three blocks in this code:**\n"
   ]
  },
  {
   "cell_type": "code",
   "execution_count": 4,
   "id": "e4b8db35",
   "metadata": {
    "scrolled": true
   },
   "outputs": [
    {
     "name": "stdout",
     "output_type": "stream",
     "text": [
      "ham\n",
      "spam\n",
      "spam\n"
     ]
    }
   ],
   "source": [
    "spam = 0\n",
    "\n",
    "if spam == 10:\n",
    "\n",
    "    print('eggs')  #Block 1\n",
    "if spam > 5:\n",
    "    print('bacon') #Block 2\n",
    "else:\n",
    "    print('ham')   #Block 3\n",
    "    print('spam')\n",
    "    print('spam')"
   ]
  },
  {
   "cell_type": "markdown",
   "id": "99e39ddc",
   "metadata": {},
   "source": [
    "**Ans.** Block is everything under if line or we can say under indentation."
   ]
  },
  {
   "cell_type": "markdown",
   "id": "8c3db268",
   "metadata": {},
   "source": [
    "**8. Write code that prints Hello if 1 is stored in spam, prints Howdy if 2 is stored in spam, and prints\n",
    "Greetings! if anything else is stored in spam.**"
   ]
  },
  {
   "cell_type": "code",
   "execution_count": 5,
   "id": "ac329362",
   "metadata": {},
   "outputs": [
    {
     "name": "stdout",
     "output_type": "stream",
     "text": [
      "1\n",
      "Hello\n"
     ]
    }
   ],
   "source": [
    "spam = int(input())\n",
    "\n",
    "if spam == 1:\n",
    "    print('Hello')\n",
    "elif spam == 2:\n",
    "    print('Howdy')\n",
    "else:\n",
    "    print('Greetings!')"
   ]
  },
  {
   "cell_type": "markdown",
   "id": "1197b6e0",
   "metadata": {},
   "source": [
    "**9.If your programme is stuck in an endless loop, what keys you’ll press?**\n",
    "\n",
    "**Ans.** If the program is stuck in an endless loop press CTRL + C"
   ]
  },
  {
   "cell_type": "markdown",
   "id": "2bd5f8bd",
   "metadata": {},
   "source": [
    "**10. How can you tell the difference between break and continue?\n",
    "Ans.** The break is used to terminate the execution of the statements and iteration of the loop. It will move to the next statement after the loop and continue for different purposes.\n",
    "\n",
    "For e.g"
   ]
  },
  {
   "cell_type": "code",
   "execution_count": 10,
   "id": "d9b080b0",
   "metadata": {},
   "outputs": [
    {
     "name": "stdout",
     "output_type": "stream",
     "text": [
      "s\n",
      "t\n",
      "r\n",
      "The end\n"
     ]
    }
   ],
   "source": [
    "for val in \"string\" :\n",
    "    if val==\"i\":\n",
    "        break\n",
    "    print(val)\n",
    "print(\"The end\")"
   ]
  },
  {
   "cell_type": "markdown",
   "id": "25fc5701",
   "metadata": {},
   "source": [
    "And in Continue statement it is used to skip the code inside loop for the current iteration.\n",
    "The loops do not terminate but continuously goes on with the next iteration.\n",
    "\n",
    "For e.g"
   ]
  },
  {
   "cell_type": "code",
   "execution_count": 11,
   "id": "2f15cc1e",
   "metadata": {},
   "outputs": [
    {
     "name": "stdout",
     "output_type": "stream",
     "text": [
      "s\n",
      "t\n",
      "r\n",
      "n\n",
      "g\n",
      "The end\n"
     ]
    }
   ],
   "source": [
    "for val in \"string\" :\n",
    "    if val==\"i\":\n",
    "        continue\n",
    "    print(val)\n",
    "print(\"The end\")"
   ]
  },
  {
   "cell_type": "markdown",
   "id": "e518bc6d",
   "metadata": {},
   "source": [
    "**11. In a for loop, what is the difference between range(10), range(0, 10), and range(0, 10, 1)?**\n",
    "\n",
    "**Ans.** There is no difference between the three as they will print \n",
    "\n",
    "0\n",
    "\n",
    "1\n",
    "\n",
    "2\n",
    "\n",
    "3\n",
    "\n",
    "4\n",
    "\n",
    "5\n",
    "\n",
    "6\n",
    "\n",
    "7\n",
    "\n",
    "8\n",
    "\n",
    "9 \n",
    "\n",
    "in each of them"
   ]
  },
  {
   "cell_type": "markdown",
   "id": "735b11a0",
   "metadata": {},
   "source": [
    "**12. Write a short program that prints the numbers 1 to 10 using a for loop. Then write an equivalent\n",
    "program that prints the numbers 1 to 10 using a while loop.**\n",
    "\n",
    "**Ans.** "
   ]
  },
  {
   "cell_type": "code",
   "execution_count": 15,
   "id": "d5a1da00",
   "metadata": {},
   "outputs": [
    {
     "name": "stdout",
     "output_type": "stream",
     "text": [
      "1\n",
      "2\n",
      "3\n",
      "4\n",
      "5\n",
      "6\n",
      "7\n",
      "8\n",
      "9\n",
      "10\n"
     ]
    }
   ],
   "source": [
    "for i in range(1,11):\n",
    "    print(i)"
   ]
  },
  {
   "cell_type": "code",
   "execution_count": 1,
   "id": "b3c47f9b",
   "metadata": {},
   "outputs": [
    {
     "name": "stdout",
     "output_type": "stream",
     "text": [
      "1\n",
      "2\n",
      "3\n",
      "4\n",
      "5\n",
      "6\n",
      "7\n",
      "8\n",
      "9\n",
      "10\n"
     ]
    }
   ],
   "source": [
    "a=11\n",
    "i=1\n",
    "while i<a:\n",
    "    print(i)\n",
    "    i=i+1"
   ]
  },
  {
   "cell_type": "markdown",
   "id": "0043acab",
   "metadata": {},
   "source": [
    "**13. If you had a function named bacon() inside a module named spam, how would you call it after\n",
    "importing spam?**\n",
    "\n",
    "**Ans.** This function can be called with spam.bacon()"
   ]
  },
  {
   "cell_type": "code",
   "execution_count": null,
   "id": "ba55fa42",
   "metadata": {},
   "outputs": [],
   "source": []
  }
 ],
 "metadata": {
  "kernelspec": {
   "display_name": "Python 3 (ipykernel)",
   "language": "python",
   "name": "python3"
  },
  "language_info": {
   "codemirror_mode": {
    "name": "ipython",
    "version": 3
   },
   "file_extension": ".py",
   "mimetype": "text/x-python",
   "name": "python",
   "nbconvert_exporter": "python",
   "pygments_lexer": "ipython3",
   "version": "3.9.7"
  }
 },
 "nbformat": 4,
 "nbformat_minor": 5
}
