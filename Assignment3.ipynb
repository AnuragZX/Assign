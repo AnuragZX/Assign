{
 "cells": [
  {
   "cell_type": "markdown",
   "id": "7c03199c",
   "metadata": {},
   "source": [
    "# ASSIGNMENT 3"
   ]
  },
  {
   "cell_type": "markdown",
   "id": "4a619b99",
   "metadata": {},
   "source": [
    "**1. Why are functions advantageous to have in your programs?**\n",
    "\n",
    "**Ans.** \n",
    "- Function increases the clarity of the code\n",
    "- Reduces the dupliction of code.\n",
    "- Converts complex code to simpler codes.\n"
   ]
  },
  {
   "cell_type": "markdown",
   "id": "f25165a4",
   "metadata": {},
   "source": [
    "**2. When does the code in a function run: when it's specified or when it's called?**\n",
    "\n",
    "**Ans.** When its called.\n",
    "\n",
    "For e.g"
   ]
  },
  {
   "cell_type": "code",
   "execution_count": 2,
   "id": "57859f50",
   "metadata": {},
   "outputs": [],
   "source": [
    "def Test():\n",
    "    for i in range(10):\n",
    "        print(i)\n",
    "        "
   ]
  },
  {
   "cell_type": "code",
   "execution_count": 3,
   "id": "1689d9f4",
   "metadata": {},
   "outputs": [
    {
     "name": "stdout",
     "output_type": "stream",
     "text": [
      "0\n",
      "1\n",
      "2\n",
      "3\n",
      "4\n",
      "5\n",
      "6\n",
      "7\n",
      "8\n",
      "9\n"
     ]
    }
   ],
   "source": [
    "Test()"
   ]
  },
  {
   "cell_type": "markdown",
   "id": "e3037220",
   "metadata": {},
   "source": [
    "As we can see in the cell number [2]. It didnt run but after calling it in [3] cell the code ran"
   ]
  },
  {
   "cell_type": "markdown",
   "id": "707eebec",
   "metadata": {},
   "source": [
    "**3. What statement creates a function?**\n",
    "\n",
    "**Ans.** def keyword is used to create a function."
   ]
  },
  {
   "cell_type": "markdown",
   "id": "0c44c7aa",
   "metadata": {},
   "source": [
    "**4. What is the difference between a function and a function call?**\n",
    "\n",
    "**Ans.** A function is a block of code in which we can also pass parameter.\n",
    "\n",
    "A Function call is passed after defining a function for running the code. it is written by the name of the function followed by call operator ()."
   ]
  },
  {
   "cell_type": "markdown",
   "id": "20868a57",
   "metadata": {},
   "source": [
    "**5. How many global scopes are there in a Python program? How many local scopes?**\n",
    "\n",
    "**Ans.** There's only one global Python scope per program execution.\n",
    "\n",
    "and a local scope is created inside a function."
   ]
  },
  {
   "cell_type": "markdown",
   "id": "6a5f2541",
   "metadata": {},
   "source": [
    "**6. What happens to variables in a local scope when the function call returns?**\n",
    "\n",
    "**Ans.** When a function returns, the local scope is destroyed and all the variables inside it are forgotten."
   ]
  },
  {
   "cell_type": "markdown",
   "id": "92c46297",
   "metadata": {},
   "source": [
    "**7. What is the concept of a return value? Is it possible to have a return value in an expression?**\n",
    "\n",
    "**Ans.** The Python return statement is a special statement that we can use inside a function to send the function's result back to the user. \n",
    "\n",
    "Yes it is possible to have a return value in expression"
   ]
  },
  {
   "cell_type": "markdown",
   "id": "c71c8ddf",
   "metadata": {},
   "source": [
    "**8. If a function does not have a return statement, what is the return value of a call to that function?**\n",
    "\n",
    "**Ans.**. If there is no return statement for a function, its return value is None."
   ]
  },
  {
   "cell_type": "markdown",
   "id": "b85a83ee",
   "metadata": {},
   "source": [
    "**9. How do you make a function variable refer to the global variable?**\n",
    "\n",
    "**Ans.** If you want to refer to a global variable in a function, you can use the global keyword to declare which variables are global."
   ]
  },
  {
   "cell_type": "markdown",
   "id": "3d9e8644",
   "metadata": {},
   "source": [
    "**10. What is the data type of None?**\n",
    "\n",
    "**Ans.** Data type of None is Nonetype"
   ]
  },
  {
   "cell_type": "code",
   "execution_count": 7,
   "id": "a3daccb3",
   "metadata": {},
   "outputs": [
    {
     "data": {
      "text/plain": [
       "NoneType"
      ]
     },
     "execution_count": 7,
     "metadata": {},
     "output_type": "execute_result"
    }
   ],
   "source": [
    "type(None)"
   ]
  },
  {
   "cell_type": "markdown",
   "id": "cd2a22e8",
   "metadata": {},
   "source": [
    "**11. What does the sentence import areallyourpetsnamederic do?**\n",
    "\n",
    "**Ans.** That import statement imports a module named areallyourpetsnamederic."
   ]
  },
  {
   "cell_type": "markdown",
   "id": "ba7c7585",
   "metadata": {},
   "source": [
    "**12. If you had a bacon() feature in a spam module, what would you call it after importing spam?**\n",
    "\n",
    "**Ans.** This function can be called with spam.bacon()."
   ]
  },
  {
   "cell_type": "markdown",
   "id": "a138386f",
   "metadata": {},
   "source": [
    "**13. What can you do to save a programme from crashing if it encounters an error?**\n",
    "\n",
    "**Ans.** We can encounter by using try except clause."
   ]
  },
  {
   "cell_type": "markdown",
   "id": "8ff96870",
   "metadata": {},
   "source": [
    "**14. What is the purpose of the try clause? What is the purpose of the except clause?**\n",
    "\n",
    "**Ans.** If the code written shows an error then try block lets us to test a block of code for error.\n",
    "    \n",
    "and except block handles the error.    \n"
   ]
  },
  {
   "cell_type": "code",
   "execution_count": null,
   "id": "303e5999",
   "metadata": {},
   "outputs": [],
   "source": []
  }
 ],
 "metadata": {
  "kernelspec": {
   "display_name": "Python 3 (ipykernel)",
   "language": "python",
   "name": "python3"
  },
  "language_info": {
   "codemirror_mode": {
    "name": "ipython",
    "version": 3
   },
   "file_extension": ".py",
   "mimetype": "text/x-python",
   "name": "python",
   "nbconvert_exporter": "python",
   "pygments_lexer": "ipython3",
   "version": "3.9.7"
  }
 },
 "nbformat": 4,
 "nbformat_minor": 5
}
