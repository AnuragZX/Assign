{
 "cells": [
  {
   "cell_type": "markdown",
   "id": "24f3915e",
   "metadata": {},
   "source": [
    "**1. What exactly is []?**\n",
    "\n",
    "**Ans.** It is an empty list, as list items are stored in [ ]. "
   ]
  },
  {
   "cell_type": "markdown",
   "id": "8e70949c",
   "metadata": {},
   "source": [
    "**2. In a list of values stored in a variable called spam, how would you assign the value 'hello' as the\n",
    "third value? (Assume [2, 4, 6, 8, 10] are in spam.)**\n",
    "\n",
    "**Ans.**"
   ]
  },
  {
   "cell_type": "code",
   "execution_count": 1,
   "id": "93a2c1b1",
   "metadata": {},
   "outputs": [],
   "source": [
    "spam = [2,4,6,8,10]\n"
   ]
  },
  {
   "cell_type": "code",
   "execution_count": 3,
   "id": "ec93ceda",
   "metadata": {},
   "outputs": [],
   "source": [
    "spam.insert(2,'hello')"
   ]
  },
  {
   "cell_type": "code",
   "execution_count": 4,
   "id": "84516623",
   "metadata": {},
   "outputs": [
    {
     "data": {
      "text/plain": [
       "[2, 4, 'hello', 6, 8, 10]"
      ]
     },
     "execution_count": 4,
     "metadata": {},
     "output_type": "execute_result"
    }
   ],
   "source": [
    "spam"
   ]
  },
  {
   "cell_type": "code",
   "execution_count": 5,
   "id": "81c6b314",
   "metadata": {},
   "outputs": [],
   "source": [
    "spam = ['a','b','c','d']"
   ]
  },
  {
   "cell_type": "markdown",
   "id": "d7e5da8e",
   "metadata": {},
   "source": [
    "**3. What is the value of spam[int(int('3' * 2) / 11)]?**\n",
    "\n",
    "**Ans.**"
   ]
  },
  {
   "cell_type": "code",
   "execution_count": 6,
   "id": "3bffa5e2",
   "metadata": {},
   "outputs": [
    {
     "data": {
      "text/plain": [
       "'d'"
      ]
     },
     "execution_count": 6,
     "metadata": {},
     "output_type": "execute_result"
    }
   ],
   "source": [
    "spam[int(int('3' * 2) / 11)]"
   ]
  },
  {
   "cell_type": "markdown",
   "id": "f4d0144f",
   "metadata": {},
   "source": [
    "**4. What is the value of spam[-1]?**\n",
    "\n",
    "**Ans.**"
   ]
  },
  {
   "cell_type": "code",
   "execution_count": 11,
   "id": "6ebe6c57",
   "metadata": {},
   "outputs": [
    {
     "data": {
      "text/plain": [
       "'d'"
      ]
     },
     "execution_count": 11,
     "metadata": {},
     "output_type": "execute_result"
    }
   ],
   "source": [
    "spam[-1]"
   ]
  },
  {
   "cell_type": "markdown",
   "id": "1d84b623",
   "metadata": {},
   "source": [
    "**5. What is the value of spam[:2]?**\n",
    "\n",
    "**Ans.**"
   ]
  },
  {
   "cell_type": "code",
   "execution_count": 12,
   "id": "7d9ca6c6",
   "metadata": {},
   "outputs": [
    {
     "data": {
      "text/plain": [
       "['a', 'b']"
      ]
     },
     "execution_count": 12,
     "metadata": {},
     "output_type": "execute_result"
    }
   ],
   "source": [
    "spam[:2]"
   ]
  },
  {
   "cell_type": "code",
   "execution_count": 13,
   "id": "7364cf37",
   "metadata": {},
   "outputs": [],
   "source": [
    "bacon= [3.14,'cat',11,'cat', True]"
   ]
  },
  {
   "cell_type": "markdown",
   "id": "74c4dcf3",
   "metadata": {},
   "source": [
    "**6. What is the value of bacon.index('cat')?**\n",
    "\n",
    "**Ans.**"
   ]
  },
  {
   "cell_type": "code",
   "execution_count": 15,
   "id": "4b90c37f",
   "metadata": {},
   "outputs": [
    {
     "data": {
      "text/plain": [
       "1"
      ]
     },
     "execution_count": 15,
     "metadata": {},
     "output_type": "execute_result"
    }
   ],
   "source": [
    "bacon.index('cat')"
   ]
  },
  {
   "cell_type": "markdown",
   "id": "a41bf8a3",
   "metadata": {},
   "source": [
    "**7. How does bacon.append(99) change the look of the list value in bacon?**\n",
    "\n",
    "**Ans.**"
   ]
  },
  {
   "cell_type": "code",
   "execution_count": 16,
   "id": "77bf4858",
   "metadata": {},
   "outputs": [],
   "source": [
    " bacon.append(99)"
   ]
  },
  {
   "cell_type": "code",
   "execution_count": 17,
   "id": "508278f8",
   "metadata": {},
   "outputs": [
    {
     "data": {
      "text/plain": [
       "[3.14, 'cat', 11, 'cat', True, 99]"
      ]
     },
     "execution_count": 17,
     "metadata": {},
     "output_type": "execute_result"
    }
   ],
   "source": [
    "bacon"
   ]
  },
  {
   "cell_type": "markdown",
   "id": "8a2acb77",
   "metadata": {},
   "source": [
    "**8. How does bacon.remove('cat') change the look of the list in bacon?**\n",
    "\n",
    "**Ans.**"
   ]
  },
  {
   "cell_type": "code",
   "execution_count": 18,
   "id": "d279e5aa",
   "metadata": {},
   "outputs": [],
   "source": [
    "bacon.remove('cat')"
   ]
  },
  {
   "cell_type": "code",
   "execution_count": 19,
   "id": "0913769e",
   "metadata": {},
   "outputs": [
    {
     "data": {
      "text/plain": [
       "[3.14, 11, 'cat', True, 99]"
      ]
     },
     "execution_count": 19,
     "metadata": {},
     "output_type": "execute_result"
    }
   ],
   "source": [
    "bacon"
   ]
  },
  {
   "cell_type": "markdown",
   "id": "2ede535e",
   "metadata": {},
   "source": [
    "**9. What are the list concatenation and list replication operators?**\n",
    "\n",
    "**Ans.** list concatenation is '+' and replication is *\n"
   ]
  },
  {
   "cell_type": "code",
   "execution_count": 20,
   "id": "6d0e9c74",
   "metadata": {},
   "outputs": [
    {
     "name": "stdout",
     "output_type": "stream",
     "text": [
      "['a', 'b', 'c', 'd', 'e', 'f', 'g']\n",
      "['e', 'f', 'g', 'e', 'f', 'g']\n"
     ]
    }
   ],
   "source": [
    "# Example\n",
    "\n",
    "l1= ['a','b','c','d']\n",
    "l2= ['e','f','g']\n",
    "conc= l1 + l2\n",
    "print(conc)\n",
    "rep = l2 * 2\n",
    "print(rep)\n"
   ]
  },
  {
   "cell_type": "markdown",
   "id": "165377b4",
   "metadata": {},
   "source": [
    "**10. What is difference between the list methods append() and insert()?**\n",
    "\n",
    "**Ans.** when we use append() we are adding an item at the end of the list.\n",
    "\n",
    "But where as when we use insert() we can add the item in the list at any index we desire."
   ]
  },
  {
   "cell_type": "code",
   "execution_count": 21,
   "id": "7ff0ca57",
   "metadata": {},
   "outputs": [],
   "source": [
    "#Example\n",
    "list= [1,2,3,4,5]\n",
    "list.append(10)"
   ]
  },
  {
   "cell_type": "code",
   "execution_count": 22,
   "id": "cb44baa2",
   "metadata": {},
   "outputs": [
    {
     "data": {
      "text/plain": [
       "[1, 2, 3, 4, 5, 10]"
      ]
     },
     "execution_count": 22,
     "metadata": {},
     "output_type": "execute_result"
    }
   ],
   "source": [
    "list"
   ]
  },
  {
   "cell_type": "code",
   "execution_count": 23,
   "id": "0e28497f",
   "metadata": {},
   "outputs": [],
   "source": [
    "list.insert(3,10)"
   ]
  },
  {
   "cell_type": "code",
   "execution_count": 25,
   "id": "85bb8548",
   "metadata": {},
   "outputs": [
    {
     "data": {
      "text/plain": [
       "[1, 2, 3, 10, 4, 5, 10]"
      ]
     },
     "execution_count": 25,
     "metadata": {},
     "output_type": "execute_result"
    }
   ],
   "source": [
    "list"
   ]
  },
  {
   "cell_type": "markdown",
   "id": "db9e7d59",
   "metadata": {},
   "source": [
    "**11. What are the two methods for removing items from a list?**\n",
    "\n",
    "**Ans.** pop() and remove() are two methods for removing items from a list\n"
   ]
  },
  {
   "cell_type": "code",
   "execution_count": 35,
   "id": "33fa4a4e",
   "metadata": {},
   "outputs": [
    {
     "data": {
      "text/plain": [
       "[1, 2, 4, 5, 6]"
      ]
     },
     "execution_count": 35,
     "metadata": {},
     "output_type": "execute_result"
    }
   ],
   "source": [
    "#example\n",
    "list = [1,2,3,4,5,6]\n",
    "list.pop(2)\n",
    "list"
   ]
  },
  {
   "cell_type": "code",
   "execution_count": 36,
   "id": "5e087b15",
   "metadata": {},
   "outputs": [
    {
     "data": {
      "text/plain": [
       "[1, 4, 5, 6]"
      ]
     },
     "execution_count": 36,
     "metadata": {},
     "output_type": "execute_result"
    }
   ],
   "source": [
    "list.remove(2)\n",
    "list"
   ]
  },
  {
   "cell_type": "markdown",
   "id": "1a2bb57e",
   "metadata": {},
   "source": [
    "**12. Describe how list values and string values are identical.**\n",
    "\n",
    "**Ans.** Both lists and strings can be passed to len() function, have indexes and slices, be used in for loops, be concatenated or replicated, and be used with the in and not in operators."
   ]
  },
  {
   "cell_type": "markdown",
   "id": "a6a9feef",
   "metadata": {},
   "source": [
    "**13. What's the difference between tuples and lists?**\n",
    "\n",
    "**Ans.** Lists are Mutable, Indexable and Slicable. they can have values added, removed, or changed. Tuples are Immutable but Indexable and Slicable. the tuple values cannot be changed at all. Also, tuples are represented using parentheses, (), while lists use the square brackets, []."
   ]
  },
  {
   "cell_type": "markdown",
   "id": "0dc2d2ad",
   "metadata": {},
   "source": [
    "**14. How do you type a tuple value that only contains the integer 42?**\n",
    "\n",
    "**Ans.** "
   ]
  },
  {
   "cell_type": "code",
   "execution_count": 1,
   "id": "776ecfc5",
   "metadata": {},
   "outputs": [
    {
     "name": "stdout",
     "output_type": "stream",
     "text": [
      "<class 'int'>\n",
      "<class 'tuple'>\n"
     ]
    }
   ],
   "source": [
    "tup1=(42)\n",
    "tup2=(42,)\n",
    "print(type(tup1))\n",
    "print(type(tup2))"
   ]
  },
  {
   "cell_type": "markdown",
   "id": "cccf9ecc",
   "metadata": {},
   "source": [
    "**15. How do you get a list value's tuple form? How do you get a tuple value's list form?**\n",
    "\n",
    "**Ans:** The tuple() and list() functions, respectively are used to convert a list to tuple and vice versa"
   ]
  },
  {
   "cell_type": "markdown",
   "id": "de92a40d",
   "metadata": {},
   "source": [
    "**16. Variables that \"contain\" list values are not necessarily lists themselves. Instead, what do they contain?**\n",
    "\n",
    "**Ans:** They contain references to list values."
   ]
  },
  {
   "cell_type": "markdown",
   "id": "42aadd5b",
   "metadata": {},
   "source": [
    "**17. How do you distinguish between copy.copy() and copy.deepcopy()?**\n",
    "\n",
    "**Ans:** The copy.copy() function will do a shallow copy of a list, while the copy.deepcopy() function will do a deep copy of a list. That is, only copy.deepcopy() will duplicate any lists inside the list."
   ]
  },
  {
   "cell_type": "code",
   "execution_count": null,
   "id": "32d3801d",
   "metadata": {},
   "outputs": [],
   "source": []
  }
 ],
 "metadata": {
  "kernelspec": {
   "display_name": "Python 3 (ipykernel)",
   "language": "python",
   "name": "python3"
  },
  "language_info": {
   "codemirror_mode": {
    "name": "ipython",
    "version": 3
   },
   "file_extension": ".py",
   "mimetype": "text/x-python",
   "name": "python",
   "nbconvert_exporter": "python",
   "pygments_lexer": "ipython3",
   "version": "3.9.7"
  }
 },
 "nbformat": 4,
 "nbformat_minor": 5
}
