{
 "cells": [
  {
   "cell_type": "markdown",
   "id": "da5377d6",
   "metadata": {},
   "source": [
    "**1. In the below elements which of them are values or an expression? eg:- values can be\n",
    "integer or string and expressions will be mathematical operators.**\n",
    "\n",
    "**Ans.**   * = expression\n",
    "\n",
    "   'hello' = value\n",
    "\n",
    "   -87.8  = value\n",
    "\n",
    "    - = expression\n",
    "\n",
    "   / = expression\n",
    "\n",
    "    + = expression\n",
    "\n",
    "   6 = value  "
   ]
  },
  {
   "cell_type": "markdown",
   "id": "415d1e51",
   "metadata": {},
   "source": [
    "**2. What is the difference between string and variable?**\n",
    "\n",
    "**Ans.** Strings are data which can be used to assign to variables.\n",
    "Varibales are a container to store data values"
   ]
  },
  {
   "cell_type": "markdown",
   "id": "b3092486",
   "metadata": {},
   "source": [
    "**3. Describe three different data types.**\n",
    "\n",
    "**Ans.** Integer = it is a type of data type which is used to store numeric values.\n",
    "\n",
    "Boolean = It is a type of data type which is used to declare True or False.\n",
    "\n",
    "Float = It is a type of data type which is used for positive or negative one or more Decimal values."
   ]
  },
  {
   "cell_type": "markdown",
   "id": "96eaf276",
   "metadata": {},
   "source": [
    "**4. What is an expression made up of? What do all expressions do?**\n",
    "\n",
    "**Ans.** Expressions are the combination of operators and operands. for e.g\n",
    "\n",
    "'+'= used for addition\n",
    "\n",
    "'-'= used for subtraction\n",
    "\n",
    "'*'= used for multiplication."
   ]
  },
  {
   "cell_type": "markdown",
   "id": "197d6ea3",
   "metadata": {},
   "source": [
    "**5. This assignment statements, like spam = 10. What is the difference between an\n",
    "expression and a statement?**\n",
    "\n",
    "**Ans.** Statements represent an action or command e.g print statements. Expression is a combination of variables, operations and values that yields a result value"
   ]
  },
  {
   "cell_type": "markdown",
   "id": "42069676",
   "metadata": {},
   "source": [
    "**6. After running the following code, what does the variable bacon contain?**\n",
    "\n",
    "bacon = 22\n",
    "\n",
    "bacon + 1"
   ]
  },
  {
   "cell_type": "code",
   "execution_count": 10,
   "id": "afb7c22a",
   "metadata": {},
   "outputs": [
    {
     "data": {
      "text/plain": [
       "23"
      ]
     },
     "execution_count": 10,
     "metadata": {},
     "output_type": "execute_result"
    }
   ],
   "source": [
    "bacon = 22\n",
    "bacon + 1"
   ]
  },
  {
   "cell_type": "markdown",
   "id": "755b060c",
   "metadata": {},
   "source": [
    "**7. What should the values of the following two terms be?**\n",
    "\n",
    "'spam' + 'spamspam'\n",
    "\n",
    "'spam'*3"
   ]
  },
  {
   "cell_type": "code",
   "execution_count": 12,
   "id": "5fb60df2",
   "metadata": {},
   "outputs": [
    {
     "data": {
      "text/plain": [
       "'spamspamspam'"
      ]
     },
     "execution_count": 12,
     "metadata": {},
     "output_type": "execute_result"
    }
   ],
   "source": [
    "'spam' + 'spamspam'"
   ]
  },
  {
   "cell_type": "code",
   "execution_count": 13,
   "id": "038a7ec9",
   "metadata": {},
   "outputs": [
    {
     "data": {
      "text/plain": [
       "'spamspamspam'"
      ]
     },
     "execution_count": 13,
     "metadata": {},
     "output_type": "execute_result"
    }
   ],
   "source": [
    "'spam'*3"
   ]
  },
  {
   "cell_type": "markdown",
   "id": "e46604db",
   "metadata": {},
   "source": [
    "**8. Why is eggs a valid variable name while 100 is invalid?**\n",
    "\n",
    "**Ans.** Eggs is a valid variable while 100 is not because a variable name should start with a letter or underscore it cannot start with a number."
   ]
  },
  {
   "cell_type": "markdown",
   "id": "9ab6974e",
   "metadata": {},
   "source": [
    "**9. What three functions can be used to get the integer, floating-point number, or string\n",
    "version of a value?**"
   ]
  },
  {
   "cell_type": "code",
   "execution_count": 15,
   "id": "338e0e2f",
   "metadata": {},
   "outputs": [
    {
     "data": {
      "text/plain": [
       "'int(), float(), str()'"
      ]
     },
     "execution_count": 15,
     "metadata": {},
     "output_type": "execute_result"
    }
   ],
   "source": [
    "\"int(), float(), str()\""
   ]
  },
  {
   "cell_type": "markdown",
   "id": "3c1ba533",
   "metadata": {},
   "source": [
    "**10. Why does this expression cause an error? How can you fix it?**\n",
    "\n",
    "'I have eaten '+ 99 +'  burritos'"
   ]
  },
  {
   "cell_type": "markdown",
   "id": "74f39140",
   "metadata": {},
   "source": [
    "**Ans.** the error is we cannot concatenate str with an integer value. for this we have to do typecasting."
   ]
  },
  {
   "cell_type": "code",
   "execution_count": null,
   "id": "0ef17670",
   "metadata": {},
   "outputs": [],
   "source": []
  }
 ],
 "metadata": {
  "kernelspec": {
   "display_name": "Python 3 (ipykernel)",
   "language": "python",
   "name": "python3"
  },
  "language_info": {
   "codemirror_mode": {
    "name": "ipython",
    "version": 3
   },
   "file_extension": ".py",
   "mimetype": "text/x-python",
   "name": "python",
   "nbconvert_exporter": "python",
   "pygments_lexer": "ipython3",
   "version": "3.9.7"
  }
 },
 "nbformat": 4,
 "nbformat_minor": 5
}
